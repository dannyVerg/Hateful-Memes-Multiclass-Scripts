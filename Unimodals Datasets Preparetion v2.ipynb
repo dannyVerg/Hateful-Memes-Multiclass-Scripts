{
 "cells": [
  {
   "cell_type": "code",
   "execution_count": null,
   "metadata": {},
   "outputs": [],
   "source": [
    "#Prepare the datasets for unimodals Hate Speech Type Unit \n",
    "import pandas as pd\n",
    "for elem in range (0, 7):\n",
    "    #train set\n",
    "    df0=pd.read_json('hateful_memes_Kopie/train_type.jsonl',lines=\"true\")\n",
    "    #df0[\"original label\"]=df0['label']\n",
    "    df0[\"label\"] = df0[\"label\"].apply(lambda x:0 if x==elem else 1)\n",
    "    path_train=\"unimodals/hateful_memes/train_type\"+str(elem)+\".jsonl\"\n",
    "    df0.to_json(path_train, orient=\"records\", lines=\"True\")\n",
    "    \n",
    "    print(df0.loc[df0['label'] == 0].head(5))\n",
    "    \n",
    "    #dev set\n",
    "    df0=pd.read_json('hateful_memes_Kopie/dev_unseen_type.jsonl',lines=\"true\")\n",
    "    #df0[\"original label\"]=df0['label']\n",
    "    df0[\"label\"] = df0[\"label\"].apply(lambda x:0 if x==elem else 1)\n",
    "    path_dev=\"unimodals/hateful_memes/dev_type\"+str(elem)+\".jsonl\"\n",
    "    df0.to_json(path_dev, orient=\"records\", lines=\"True\")\n",
    "\n",
    "    #test set\n",
    "    df0=pd.read_json('hateful_memes_Kopie/test_unseen_type.jsonl',lines=\"true\")\n",
    "    #df0[\"original label\"]=df0['label']\n",
    "    df0[\"label\"] = df0[\"label\"].apply(lambda x:0 if x==elem else 1)\n",
    "    path_test=\"unimodals/hateful_memes/test_type\"+str(elem)+\".jsonl\"\n",
    "    df0.to_json(path_test, orient=\"records\", lines=\"True\")\n",
    "\n",
    "\n",
    "    "
   ]
  },
  {
   "cell_type": "code",
   "execution_count": 1,
   "metadata": {},
   "outputs": [
    {
     "data": {
      "text/plain": [
       "'/Users/danny/Downloads'"
      ]
     },
     "execution_count": 1,
     "metadata": {},
     "output_type": "execute_result"
    }
   ],
   "source": [
    "pwd"
   ]
  },
  {
   "cell_type": "code",
   "execution_count": 5,
   "metadata": {},
   "outputs": [
    {
     "name": "stdout",
     "output_type": "stream",
     "text": [
      "      id            img  label  \\\n",
      "0  42953  img/42953.png      0   \n",
      "1  23058  img/23058.png      0   \n",
      "2  13894  img/13894.png      0   \n",
      "3  37408  img/37408.png      0   \n",
      "4  82403  img/82403.png      0   \n",
      "\n",
      "                                                text  \n",
      "0   its their character not their color that matters  \n",
      "1  don't be afraid to love again everyone is not ...  \n",
      "2                           putting bows on your pet  \n",
      "3  i love everything and everybody! except for sq...  \n",
      "4  everybody loves chocolate chip cookies, even h...  \n",
      "       id            img  label  \\\n",
      "10  79351  img/79351.png      0   \n",
      "12  25489  img/25489.png      0   \n",
      "25  72640  img/72640.png      0   \n",
      "43  74386  img/74386.png      0   \n",
      "47  52610  img/52610.png      0   \n",
      "\n",
      "                                                 text  \n",
      "10                           jew mad? get fuhrerious!  \n",
      "12   brother... a day without a blast is a day wasted  \n",
      "25  is bribing muslims for liberal votes justin tr...  \n",
      "43  we said we would never forget why are you voti...  \n",
      "47  i'm sick of politics so here's a pic of michel...  \n",
      "        id            img  label  \\\n",
      "142  20736  img/20736.png      0   \n",
      "225  98362  img/98362.png      0   \n",
      "244  81259  img/81259.png      0   \n",
      "266  31479  img/31479.png      0   \n",
      "286  93568  img/93568.png      0   \n",
      "\n",
      "                                                  text  \n",
      "142                           go be gay somewhere else  \n",
      "225                    it's ma'am look i found a penis  \n",
      "244  when you see a child in a gay parade half nake...  \n",
      "266  the only \"perferred pronouns\" a tranny needs i...  \n",
      "286     i'm so fucking gay i can't even think straight  \n",
      "        id            img  label  \\\n",
      "58   20619  img/20619.png      0   \n",
      "111  54102  img/54102.png      0   \n",
      "123  26759  img/26759.png      0   \n",
      "131  24631  img/24631.png      0   \n",
      "304   8654  img/08654.png      0   \n",
      "\n",
      "                                                  text  \n",
      "58   when you beat the shit out of the tranny hooke...  \n",
      "111  i'm uncertain where i stand on abortion i like...  \n",
      "123  that look when you wanna cut a bitch but you r...  \n",
      "131              it's ma'am!! yooouu lookah like a man  \n",
      "304  never had one before . what? a room to yoursel...  \n",
      "        id            img  label  \\\n",
      "269  17205  img/17205.png      0   \n",
      "310  74536  img/74536.png      0   \n",
      "351  67384  img/67384.png      0   \n",
      "389  56389  img/56389.png      0   \n",
      "408  34658  img/34658.png      0   \n",
      "\n",
      "                                                  text  \n",
      "269                    i win again! parkinson's center  \n",
      "310   for guys that like it nice and slow gimme a call  \n",
      "351   what's hillary's favorite pizza? little seizures  \n",
      "389     no means no unless she's dyslexic then it's on  \n",
      "408  pissed off two men becuase i refered to them a...  \n",
      "        id            img  label  \\\n",
      "54   69357  img/69357.png      0   \n",
      "80   52097  img/52097.png      0   \n",
      "167  80269  img/80269.png      0   \n",
      "202   8593  img/08593.png      0   \n",
      "222  36081  img/36081.png      0   \n",
      "\n",
      "                                                  text  \n",
      "54               hey look at me! i'm a serial pedofile  \n",
      "80   if you're vaping inside a mcdonalds, inside a ...  \n",
      "167           this is really out of mein kampfert zone  \n",
      "202                                     18 years later  \n",
      "222  in this edition we don't buy property; we stea...  \n"
     ]
    }
   ],
   "source": [
    "#Prepare the datasets for unimodals Protected Category Unit \n",
    "import pandas as pd\n",
    "for elem in range (0, 6):\n",
    "    #train set\n",
    "    df0=pd.read_json('hateful_memes_Kopie/train_cat.jsonl',lines=\"true\")\n",
    "    #df0[\"original label\"]=df0['label']\n",
    "    df0[\"label\"] = df0[\"label\"].apply(lambda x:0 if x==elem else 1)\n",
    "    path_train=\"train_cat\"+str(elem)+\".jsonl\"\n",
    "    df0.to_json(path_train, orient=\"records\", lines=\"True\")\n",
    "    \n",
    "    print(df0.loc[df0['label'] == 0].head(5))\n",
    "    \n",
    "    #dev set\n",
    "    df0=pd.read_json('hateful_memes_Kopie/dev_unseen_cat.jsonl',lines=\"true\")\n",
    "    #df0[\"original label\"]=df0['label']\n",
    "    df0[\"label\"] = df0[\"label\"].apply(lambda x:0 if x==elem else 1)\n",
    "    path_dev=\"dev_cat\"+str(elem)+\".jsonl\"\n",
    "    df0.to_json(path_dev, orient=\"records\", lines=\"True\")\n",
    "\n",
    "    #test set\n",
    "    df0=pd.read_json('hateful_memes_Kopie/test_unseen_cat.jsonl',lines=\"true\")\n",
    "    #df0[\"original label\"]=df0['label']\n",
    "    df0[\"label\"] = df0[\"label\"].apply(lambda x:0 if x==elem else 1)\n",
    "    path_test=\"test_cat\"+str(elem)+\".jsonl\"\n",
    "    df0.to_json(path_test, orient=\"records\", lines=\"True\")\n",
    "\n",
    "\n",
    "    "
   ]
  },
  {
   "cell_type": "code",
   "execution_count": null,
   "metadata": {},
   "outputs": [],
   "source": []
  }
 ],
 "metadata": {
  "kernelspec": {
   "display_name": "Python 3",
   "language": "python",
   "name": "python3"
  },
  "language_info": {
   "codemirror_mode": {
    "name": "ipython",
    "version": 3
   },
   "file_extension": ".py",
   "mimetype": "text/x-python",
   "name": "python",
   "nbconvert_exporter": "python",
   "pygments_lexer": "ipython3",
   "version": "3.7.6"
  }
 },
 "nbformat": 4,
 "nbformat_minor": 4
}
