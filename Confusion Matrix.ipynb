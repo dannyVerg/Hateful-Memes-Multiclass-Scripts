{
 "cells": [
  {
   "cell_type": "code",
   "execution_count": null,
   "metadata": {},
   "outputs": [],
   "source": [
    "import pandas as pd\n",
    "import numpy as np\n",
    "import matplotlib.pyplot as plt\n",
    "import seaborn as sn\n",
    "test=pd.read_json('8models_withExlusion_type/test_unseen_type.jsonl',lines=\"true\")\n",
    "test=test.rename(columns = {'label':\"actual_label\"})\n",
    "\n",
    "\n",
    "pred=pd.read_csv(\"8models_withExlusion_type/submission.csv\")\n",
    "pred=pred.rename(columns = {'label':\"pred_label\"})\n",
    "\n",
    "#confusion_matrix=pd.crosstab(test.actual_label, pred.pred_label, normalize=True)\n",
    "confusion_matrix=pd.crosstab(test.actual_label, pred.pred_label)\n",
    "fig=plt.figure(figsize=(30,10))\n",
    "ax1=plt.subplot(121)\n",
    "sn.heatmap(confusion_matrix, annot=True, cmap=\"Blues\")"
   ]
  }
 ],
 "metadata": {
  "kernelspec": {
   "display_name": "Python 3",
   "language": "python",
   "name": "python3"
  },
  "language_info": {
   "codemirror_mode": {
    "name": "ipython",
    "version": 3
   },
   "file_extension": ".py",
   "mimetype": "text/x-python",
   "name": "python",
   "nbconvert_exporter": "python",
   "pygments_lexer": "ipython3",
   "version": "3.7.6"
  }
 },
 "nbformat": 4,
 "nbformat_minor": 4
}
